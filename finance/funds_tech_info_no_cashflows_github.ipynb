{
 "cells": [
  {
   "cell_type": "code",
   "execution_count": null,
   "metadata": {},
   "outputs": [],
   "source": [
    "import os\n",
    "import pandas as pd\n",
    "import numpy as np\n",
    "from sklearn import preprocessing\n",
    "import statsmodels.api as sm\n",
    "import matplotlib.pyplot as plt\n",
    "plt.close(\"all\")\n",
    "\n",
    "PATH=\"C:/Users/...\"\n",
    "os.chdir(PATH)\n",
    "print(\"Current working directory -->\", PATH)"
   ]
  },
  {
   "cell_type": "code",
   "execution_count": 2,
   "metadata": {},
   "outputs": [
    {
     "data": {
      "text/html": [
       "<div>\n",
       "<style scoped>\n",
       "    .dataframe tbody tr th:only-of-type {\n",
       "        vertical-align: middle;\n",
       "    }\n",
       "\n",
       "    .dataframe tbody tr th {\n",
       "        vertical-align: top;\n",
       "    }\n",
       "\n",
       "    .dataframe thead th {\n",
       "        text-align: right;\n",
       "    }\n",
       "</style>\n",
       "<table border=\"1\" class=\"dataframe\">\n",
       "  <thead>\n",
       "    <tr style=\"text-align: right;\">\n",
       "      <th></th>\n",
       "      <th>Date</th>\n",
       "      <th>Open</th>\n",
       "      <th>High</th>\n",
       "      <th>Low</th>\n",
       "      <th>Close</th>\n",
       "      <th>Adj Close</th>\n",
       "      <th>Volume</th>\n",
       "    </tr>\n",
       "  </thead>\n",
       "  <tbody>\n",
       "    <tr>\n",
       "      <th>0</th>\n",
       "      <td>2020-01-02</td>\n",
       "      <td>323.540009</td>\n",
       "      <td>324.890015</td>\n",
       "      <td>322.529999</td>\n",
       "      <td>324.869995</td>\n",
       "      <td>318.914307</td>\n",
       "      <td>59151200</td>\n",
       "    </tr>\n",
       "    <tr>\n",
       "      <th>1</th>\n",
       "      <td>2020-01-03</td>\n",
       "      <td>321.160004</td>\n",
       "      <td>323.640015</td>\n",
       "      <td>321.100006</td>\n",
       "      <td>322.410004</td>\n",
       "      <td>316.499451</td>\n",
       "      <td>77709700</td>\n",
       "    </tr>\n",
       "    <tr>\n",
       "      <th>2</th>\n",
       "      <td>2020-01-06</td>\n",
       "      <td>320.489990</td>\n",
       "      <td>323.730011</td>\n",
       "      <td>320.359985</td>\n",
       "      <td>323.640015</td>\n",
       "      <td>317.706909</td>\n",
       "      <td>55653900</td>\n",
       "    </tr>\n",
       "  </tbody>\n",
       "</table>\n",
       "</div>"
      ],
      "text/plain": [
       "         Date        Open        High         Low       Close   Adj Close  \\\n",
       "0  2020-01-02  323.540009  324.890015  322.529999  324.869995  318.914307   \n",
       "1  2020-01-03  321.160004  323.640015  321.100006  322.410004  316.499451   \n",
       "2  2020-01-06  320.489990  323.730011  320.359985  323.640015  317.706909   \n",
       "\n",
       "     Volume  \n",
       "0  59151200  \n",
       "1  77709700  \n",
       "2  55653900  "
      ]
     },
     "execution_count": 2,
     "metadata": {},
     "output_type": "execute_result"
    }
   ],
   "source": [
    "# Importing working Time Series downloaded via Yahoo finance for the whole year of 2020\n",
    "SPY=pd.read_csv(\"SPY.csv\", infer_datetime_format=True) # Constitutent 1\n",
    "TLT=pd.read_csv(\"TLT.csv\", infer_datetime_format=True) # Constitutent 2\n",
    "GLD=pd.read_csv(\"GLD.csv\", infer_datetime_format=True) # Constitutent 3\n",
    "SP500=pd.read_csv(\"SP500.csv\", infer_datetime_format=True) # Benchmark\n",
    "\n",
    "factors_dict = {\n",
    "    'SPY': SPY,\n",
    "    'TLT': TLT,\n",
    "    'GLD': GLD,\n",
    "    'SP500': SP500,\n",
    "}\n",
    "\n",
    "factors_dict['SPY'].head(3)"
   ]
  },
  {
   "cell_type": "code",
   "execution_count": 3,
   "metadata": {},
   "outputs": [
    {
     "data": {
      "text/html": [
       "<div>\n",
       "<style scoped>\n",
       "    .dataframe tbody tr th:only-of-type {\n",
       "        vertical-align: middle;\n",
       "    }\n",
       "\n",
       "    .dataframe tbody tr th {\n",
       "        vertical-align: top;\n",
       "    }\n",
       "\n",
       "    .dataframe thead th {\n",
       "        text-align: right;\n",
       "    }\n",
       "</style>\n",
       "<table border=\"1\" class=\"dataframe\">\n",
       "  <thead>\n",
       "    <tr style=\"text-align: right;\">\n",
       "      <th></th>\n",
       "      <th>Date</th>\n",
       "      <th>Open</th>\n",
       "      <th>High</th>\n",
       "      <th>Low</th>\n",
       "      <th>Close</th>\n",
       "      <th>SPY</th>\n",
       "      <th>Volume</th>\n",
       "    </tr>\n",
       "  </thead>\n",
       "  <tbody>\n",
       "    <tr>\n",
       "      <th>0</th>\n",
       "      <td>2020-01-02</td>\n",
       "      <td>323.540009</td>\n",
       "      <td>324.890015</td>\n",
       "      <td>322.529999</td>\n",
       "      <td>324.869995</td>\n",
       "      <td>318.914307</td>\n",
       "      <td>59151200</td>\n",
       "    </tr>\n",
       "    <tr>\n",
       "      <th>1</th>\n",
       "      <td>2020-01-03</td>\n",
       "      <td>321.160004</td>\n",
       "      <td>323.640015</td>\n",
       "      <td>321.100006</td>\n",
       "      <td>322.410004</td>\n",
       "      <td>316.499451</td>\n",
       "      <td>77709700</td>\n",
       "    </tr>\n",
       "    <tr>\n",
       "      <th>2</th>\n",
       "      <td>2020-01-06</td>\n",
       "      <td>320.489990</td>\n",
       "      <td>323.730011</td>\n",
       "      <td>320.359985</td>\n",
       "      <td>323.640015</td>\n",
       "      <td>317.706909</td>\n",
       "      <td>55653900</td>\n",
       "    </tr>\n",
       "  </tbody>\n",
       "</table>\n",
       "</div>"
      ],
      "text/plain": [
       "         Date        Open        High         Low       Close         SPY  \\\n",
       "0  2020-01-02  323.540009  324.890015  322.529999  324.869995  318.914307   \n",
       "1  2020-01-03  321.160004  323.640015  321.100006  322.410004  316.499451   \n",
       "2  2020-01-06  320.489990  323.730011  320.359985  323.640015  317.706909   \n",
       "\n",
       "     Volume  \n",
       "0  59151200  \n",
       "1  77709700  \n",
       "2  55653900  "
      ]
     },
     "execution_count": 3,
     "metadata": {},
     "output_type": "execute_result"
    }
   ],
   "source": [
    "# Renaming the 'Adj Close'\n",
    "for k in factors_dict.keys():\n",
    "    factors_dict[k] = factors_dict[k].rename(columns={\"Adj Close\": k})\n",
    "    \n",
    "factors_dict['SPY'].head(3)"
   ]
  },
  {
   "cell_type": "code",
   "execution_count": 4,
   "metadata": {},
   "outputs": [
    {
     "data": {
      "text/html": [
       "<div>\n",
       "<style scoped>\n",
       "    .dataframe tbody tr th:only-of-type {\n",
       "        vertical-align: middle;\n",
       "    }\n",
       "\n",
       "    .dataframe tbody tr th {\n",
       "        vertical-align: top;\n",
       "    }\n",
       "\n",
       "    .dataframe thead th {\n",
       "        text-align: right;\n",
       "    }\n",
       "</style>\n",
       "<table border=\"1\" class=\"dataframe\">\n",
       "  <thead>\n",
       "    <tr style=\"text-align: right;\">\n",
       "      <th></th>\n",
       "      <th>Date</th>\n",
       "      <th>SPY</th>\n",
       "      <th>TLT</th>\n",
       "      <th>GLD</th>\n",
       "      <th>SP500</th>\n",
       "    </tr>\n",
       "  </thead>\n",
       "  <tbody>\n",
       "    <tr>\n",
       "      <th>0</th>\n",
       "      <td>2020-01-02</td>\n",
       "      <td>318.914307</td>\n",
       "      <td>135.004837</td>\n",
       "      <td>143.949997</td>\n",
       "      <td>3257.850098</td>\n",
       "    </tr>\n",
       "    <tr>\n",
       "      <th>1</th>\n",
       "      <td>2020-01-03</td>\n",
       "      <td>316.499451</td>\n",
       "      <td>137.083969</td>\n",
       "      <td>145.860001</td>\n",
       "      <td>3234.850098</td>\n",
       "    </tr>\n",
       "    <tr>\n",
       "      <th>2</th>\n",
       "      <td>2020-01-06</td>\n",
       "      <td>317.706909</td>\n",
       "      <td>136.305542</td>\n",
       "      <td>147.389999</td>\n",
       "      <td>3246.280029</td>\n",
       "    </tr>\n",
       "  </tbody>\n",
       "</table>\n",
       "</div>"
      ],
      "text/plain": [
       "         Date         SPY         TLT         GLD        SP500\n",
       "0  2020-01-02  318.914307  135.004837  143.949997  3257.850098\n",
       "1  2020-01-03  316.499451  137.083969  145.860001  3234.850098\n",
       "2  2020-01-06  317.706909  136.305542  147.389999  3246.280029"
      ]
     },
     "execution_count": 4,
     "metadata": {},
     "output_type": "execute_result"
    }
   ],
   "source": [
    "# Joining all factors/constituents in one table\n",
    "master_factors = factors_dict['SPY'][[\"Date\"]]\n",
    "for k in factors_dict.keys():\n",
    "    master_factors = pd.merge(\n",
    "        master_factors,\n",
    "        factors_dict[k][[\"Date\", k]],\n",
    "        how='left',\n",
    "        on=[\"Date\"]\n",
    "    )\n",
    "    \n",
    "master_factors.head(3)"
   ]
  },
  {
   "cell_type": "code",
   "execution_count": 5,
   "metadata": {},
   "outputs": [
    {
     "data": {
      "text/html": [
       "<div>\n",
       "<style scoped>\n",
       "    .dataframe tbody tr th:only-of-type {\n",
       "        vertical-align: middle;\n",
       "    }\n",
       "\n",
       "    .dataframe tbody tr th {\n",
       "        vertical-align: top;\n",
       "    }\n",
       "\n",
       "    .dataframe thead th {\n",
       "        text-align: right;\n",
       "    }\n",
       "</style>\n",
       "<table border=\"1\" class=\"dataframe\">\n",
       "  <thead>\n",
       "    <tr style=\"text-align: right;\">\n",
       "      <th></th>\n",
       "      <th>SPY</th>\n",
       "      <th>TLT</th>\n",
       "      <th>GLD</th>\n",
       "      <th>SP500</th>\n",
       "    </tr>\n",
       "    <tr>\n",
       "      <th>Date</th>\n",
       "      <th></th>\n",
       "      <th></th>\n",
       "      <th></th>\n",
       "      <th></th>\n",
       "    </tr>\n",
       "  </thead>\n",
       "  <tbody>\n",
       "    <tr>\n",
       "      <th>2020-01-02</th>\n",
       "      <td>318.914307</td>\n",
       "      <td>135.004837</td>\n",
       "      <td>143.949997</td>\n",
       "      <td>3257.850098</td>\n",
       "    </tr>\n",
       "    <tr>\n",
       "      <th>2020-01-03</th>\n",
       "      <td>316.499451</td>\n",
       "      <td>137.083969</td>\n",
       "      <td>145.860001</td>\n",
       "      <td>3234.850098</td>\n",
       "    </tr>\n",
       "    <tr>\n",
       "      <th>2020-01-06</th>\n",
       "      <td>317.706909</td>\n",
       "      <td>136.305542</td>\n",
       "      <td>147.389999</td>\n",
       "      <td>3246.280029</td>\n",
       "    </tr>\n",
       "  </tbody>\n",
       "</table>\n",
       "</div>"
      ],
      "text/plain": [
       "                   SPY         TLT         GLD        SP500\n",
       "Date                                                       \n",
       "2020-01-02  318.914307  135.004837  143.949997  3257.850098\n",
       "2020-01-03  316.499451  137.083969  145.860001  3234.850098\n",
       "2020-01-06  317.706909  136.305542  147.389999  3246.280029"
      ]
     },
     "execution_count": 5,
     "metadata": {},
     "output_type": "execute_result"
    }
   ],
   "source": [
    "# Set 'Date' column to index\n",
    "master_factors['Date'] = pd.to_datetime(master_factors['Date'], infer_datetime_format=True)\n",
    "master_factors = master_factors.set_index('Date')\n",
    "\n",
    "master_factors.head(3)"
   ]
  },
  {
   "cell_type": "code",
   "execution_count": 6,
   "metadata": {},
   "outputs": [
    {
     "data": {
      "text/html": [
       "<div>\n",
       "<style scoped>\n",
       "    .dataframe tbody tr th:only-of-type {\n",
       "        vertical-align: middle;\n",
       "    }\n",
       "\n",
       "    .dataframe tbody tr th {\n",
       "        vertical-align: top;\n",
       "    }\n",
       "\n",
       "    .dataframe thead th {\n",
       "        text-align: right;\n",
       "    }\n",
       "</style>\n",
       "<table border=\"1\" class=\"dataframe\">\n",
       "  <thead>\n",
       "    <tr style=\"text-align: right;\">\n",
       "      <th></th>\n",
       "      <th>log_SPY</th>\n",
       "      <th>log_TLT</th>\n",
       "      <th>log_GLD</th>\n",
       "      <th>log_SP500</th>\n",
       "    </tr>\n",
       "    <tr>\n",
       "      <th>Date</th>\n",
       "      <th></th>\n",
       "      <th></th>\n",
       "      <th></th>\n",
       "      <th></th>\n",
       "    </tr>\n",
       "  </thead>\n",
       "  <tbody>\n",
       "    <tr>\n",
       "      <th>2020-01-03</th>\n",
       "      <td>-0.007601</td>\n",
       "      <td>0.015283</td>\n",
       "      <td>0.013181</td>\n",
       "      <td>-0.007085</td>\n",
       "    </tr>\n",
       "    <tr>\n",
       "      <th>2020-01-06</th>\n",
       "      <td>0.003808</td>\n",
       "      <td>-0.005695</td>\n",
       "      <td>0.010435</td>\n",
       "      <td>0.003527</td>\n",
       "    </tr>\n",
       "    <tr>\n",
       "      <th>2020-01-07</th>\n",
       "      <td>-0.002816</td>\n",
       "      <td>-0.004928</td>\n",
       "      <td>0.003927</td>\n",
       "      <td>-0.002807</td>\n",
       "    </tr>\n",
       "  </tbody>\n",
       "</table>\n",
       "</div>"
      ],
      "text/plain": [
       "             log_SPY   log_TLT   log_GLD  log_SP500\n",
       "Date                                               \n",
       "2020-01-03 -0.007601  0.015283  0.013181  -0.007085\n",
       "2020-01-06  0.003808 -0.005695  0.010435   0.003527\n",
       "2020-01-07 -0.002816 -0.004928  0.003927  -0.002807"
      ]
     },
     "execution_count": 6,
     "metadata": {},
     "output_type": "execute_result"
    }
   ],
   "source": [
    "# Compute the returns then we continue with the dataframe containing only the log returns\n",
    "for k in master_factors.keys():\n",
    "    master_factors['log_' + k] = np.log(master_factors[k]) - np.log(master_factors[k].shift(1))\n",
    "\n",
    "master_returns = master_factors[[c for c in master_factors.columns if c.startswith(\"log_\")]]\\\n",
    "                                .dropna()\n",
    "master_returns.head(3)"
   ]
  },
  {
   "cell_type": "code",
   "execution_count": 8,
   "metadata": {},
   "outputs": [
    {
     "data": {
      "text/plain": [
       "<matplotlib.axes._subplots.AxesSubplot at 0x20d17857e50>"
      ]
     },
     "execution_count": 8,
     "metadata": {},
     "output_type": "execute_result"
    },
    {
     "data": {
      "image/png": "[encoded data removed]",
      "text/plain": [
       "<Figure size 432x288 with 1 Axes>"
      ]
     },
     "metadata": {
      "needs_background": "light"
     },
     "output_type": "display_data"
    }
   ],
   "source": [
    "# CHECK\n",
    "# Seems left/negatively skewed - as expected\n",
    "master_returns['log_GLD'].hist()"
   ]
  },
  {
   "cell_type": "code",
   "execution_count": 9,
   "metadata": {},
   "outputs": [
    {
     "data": {
      "text/html": [
       "<div>\n",
       "<style scoped>\n",
       "    .dataframe tbody tr th:only-of-type {\n",
       "        vertical-align: middle;\n",
       "    }\n",
       "\n",
       "    .dataframe tbody tr th {\n",
       "        vertical-align: top;\n",
       "    }\n",
       "\n",
       "    .dataframe thead th {\n",
       "        text-align: right;\n",
       "    }\n",
       "</style>\n",
       "<table border=\"1\" class=\"dataframe\">\n",
       "  <thead>\n",
       "    <tr style=\"text-align: right;\">\n",
       "      <th></th>\n",
       "      <th>log_SPY</th>\n",
       "      <th>log_TLT</th>\n",
       "      <th>log_GLD</th>\n",
       "      <th>log_SP500</th>\n",
       "      <th>rp</th>\n",
       "    </tr>\n",
       "    <tr>\n",
       "      <th>Date</th>\n",
       "      <th></th>\n",
       "      <th></th>\n",
       "      <th></th>\n",
       "      <th></th>\n",
       "      <th></th>\n",
       "    </tr>\n",
       "  </thead>\n",
       "  <tbody>\n",
       "    <tr>\n",
       "      <th>2020-01-03</th>\n",
       "      <td>-0.007601</td>\n",
       "      <td>0.015283</td>\n",
       "      <td>0.013181</td>\n",
       "      <td>-0.007085</td>\n",
       "      <td>0.003000</td>\n",
       "    </tr>\n",
       "    <tr>\n",
       "      <th>2020-01-06</th>\n",
       "      <td>0.003808</td>\n",
       "      <td>-0.005695</td>\n",
       "      <td>0.010435</td>\n",
       "      <td>0.003527</td>\n",
       "      <td>0.005508</td>\n",
       "    </tr>\n",
       "    <tr>\n",
       "      <th>2020-01-07</th>\n",
       "      <td>-0.002816</td>\n",
       "      <td>-0.004928</td>\n",
       "      <td>0.003927</td>\n",
       "      <td>-0.002807</td>\n",
       "      <td>-0.000330</td>\n",
       "    </tr>\n",
       "  </tbody>\n",
       "</table>\n",
       "</div>"
      ],
      "text/plain": [
       "             log_SPY   log_TLT   log_GLD  log_SP500        rp\n",
       "Date                                                         \n",
       "2020-01-03 -0.007601  0.015283  0.013181  -0.007085  0.003000\n",
       "2020-01-06  0.003808 -0.005695  0.010435   0.003527  0.005508\n",
       "2020-01-07 -0.002816 -0.004928  0.003927  -0.002807 -0.000330"
      ]
     },
     "execution_count": 9,
     "metadata": {},
     "output_type": "execute_result"
    }
   ],
   "source": [
    "# Computing the portfolio returns with weights SPY:0.5, GLD:0.4, TLT:0.1\n",
    "portfolio_w = {\n",
    "    'log_SPY': 0.5,\n",
    "    'log_GLD': 0.4,\n",
    "    'log_TLT': 0.1\n",
    "}\n",
    "\n",
    "master_returns[\"rp\"]=0\n",
    "for k, v in portfolio_w.items():\n",
    "    master_returns[\"rp\"] += v * master_returns[k]\n",
    "    \n",
    "master_returns.head(3)"
   ]
  },
  {
   "cell_type": "code",
   "execution_count": 10,
   "metadata": {},
   "outputs": [
    {
     "name": "stdout",
     "output_type": "stream",
     "text": [
      "                            OLS Regression Results                            \n",
      "==============================================================================\n",
      "Dep. Variable:              log_SP500   R-squared:                       0.800\n",
      "Model:                            OLS   Adj. R-squared:                  0.799\n",
      "Method:                 Least Squares   F-statistic:                     993.2\n",
      "Date:                Sun, 31 Jan 2021   Prob (F-statistic):           7.07e-89\n",
      "Time:                        17:09:20   Log-Likelihood:                 804.86\n",
      "No. Observations:                 251   AIC:                            -1606.\n",
      "Df Residuals:                     249   BIC:                            -1599.\n",
      "Df Model:                           1                                         \n",
      "Covariance Type:            nonrobust                                         \n",
      "==============================================================================\n",
      "                 coef    std err          t      P>|t|      [0.025      0.975]\n",
      "------------------------------------------------------------------------------\n",
      "rp             1.6293      0.052     31.516      0.000       1.527       1.731\n",
      "alpha         -0.0006      0.001     -0.973      0.332      -0.002       0.001\n",
      "==============================================================================\n",
      "Omnibus:                       38.589   Durbin-Watson:                   2.091\n",
      "Prob(Omnibus):                  0.000   Jarque-Bera (JB):              231.845\n",
      "Skew:                           0.349   Prob(JB):                     4.52e-51\n",
      "Kurtosis:                       7.656   Cond. No.                         83.3\n",
      "==============================================================================\n",
      "\n",
      "Warnings:\n",
      "[1] Standard Errors assume that the covariance matrix of the errors is correctly specified.\n"
     ]
    },
    {
     "name": "stderr",
     "output_type": "stream",
     "text": [
      "<ipython-input-10-ede697f0f797>:4: SettingWithCopyWarning: \n",
      "A value is trying to be set on a copy of a slice from a DataFrame.\n",
      "Try using .loc[row_indexer,col_indexer] = value instead\n",
      "\n",
      "See the caveats in the documentation: https://pandas.pydata.org/pandas-docs/stable/user_guide/indexing.html#returning-a-view-versus-a-copy\n",
      "  X_train[\"alpha\"] = 1 # Our model needs an intercept so we add a column of 1s\n"
     ]
    }
   ],
   "source": [
    "# CAPM formula: rp - RF =  ALPHA + Beta*(rb – RF)\n",
    "\n",
    "# rp: portfolio returns vector\n",
    "# RF: risk free rate - for simplicity we will assume in this exercise that RF (risk free rate) is equal to zero\n",
    "# ALPHA: the intercept of the OLS\n",
    "# rb: benchmark returns, here the S&P 500 returns\n",
    "\n",
    "X_train = master_returns[[\"rp\"]] # portfolio returns\n",
    "X_train[\"alpha\"] = 1 # Our model needs an intercept so we add a column of 1s\n",
    "y_train = master_returns[[\"log_SP500\"]] # Benchmark returns\n",
    "\n",
    "# Fit and summarize OLS model\n",
    "mod = sm.OLS(y_train, X_train)\n",
    "res = mod.fit()\n",
    "print(res.summary())"
   ]
  },
  {
   "cell_type": "code",
   "execution_count": 11,
   "metadata": {},
   "outputs": [
    {
     "name": "stdout",
     "output_type": "stream",
     "text": [
      "-------- Total returns for year 2020 --------\n",
      "Portfolio:  19.32 %\n",
      "Benchmark:  14.56 %\n"
     ]
    },
    {
     "data": {
      "text/plain": [
       "<Figure size 864x1152 with 0 Axes>"
      ]
     },
     "metadata": {},
     "output_type": "display_data"
    },
    {
     "data": {
      "image/png": "[encoded data removed]",
      "text/plain": [
       "<Figure size 432x288 with 1 Axes>"
      ]
     },
     "metadata": {
      "needs_background": "light"
     },
     "output_type": "display_data"
    }
   ],
   "source": [
    "# Cumulative sum\n",
    "df_cumsum = master_returns[[\"rp\", \"log_SPY\", \"log_GLD\", \"log_TLT\", \"log_SP500\"]].cumsum()\n",
    "\n",
    "# ATTENTION !!!\n",
    "# log(1 + ri) = log(Pi) - log(Pj)\n",
    "p_annual_ret = np.exp(df_cumsum.at[df_cumsum.index[-1],'rp']) - 1\n",
    "bm_annual_ret = np.exp(df_cumsum.at[df_cumsum.index[-1],'log_SP500']) - 1\n",
    "                                   \n",
    "plt.figure(figsize=(12, 16))\n",
    "df_cumsum.plot()\n",
    "\n",
    "print('-------- Total returns for year 2020 --------')\n",
    "print('Portfolio: ', round(p_annual_ret * 100, 2), \"%\")\n",
    "print('Benchmark: ', round(bm_annual_ret * 100, 2), \"%\")"
   ]
  },
  {
   "cell_type": "code",
   "execution_count": 12,
   "metadata": {},
   "outputs": [
    {
     "data": {
      "text/plain": [
       "<matplotlib.axes._subplots.AxesSubplot at 0x20d1850e880>"
      ]
     },
     "execution_count": 12,
     "metadata": {},
     "output_type": "execute_result"
    },
    {
     "data": {
      "text/plain": [
       "<Figure size 864x1152 with 0 Axes>"
      ]
     },
     "metadata": {},
     "output_type": "display_data"
    },
    {
     "data": {
      "image/png": "[encoded data removed]",
      "text/plain": [
       "<Figure size 432x288 with 1 Axes>"
      ]
     },
     "metadata": {
      "needs_background": "light"
     },
     "output_type": "display_data"
    }
   ],
   "source": [
    "# Time series returns\n",
    "df_rets = master_returns[[\"log_SP500\", \"rp\"]]\n",
    "\n",
    "plt.figure(figsize=(12, 16))\n",
    "df_rets.plot()"
   ]
  },
  {
   "cell_type": "code",
   "execution_count": 13,
   "metadata": {},
   "outputs": [
    {
     "name": "stderr",
     "output_type": "stream",
     "text": [
      "<ipython-input-13-901f32e5b344>:5: SettingWithCopyWarning: \n",
      "A value is trying to be set on a copy of a slice from a DataFrame.\n",
      "Try using .loc[row_indexer,col_indexer] = value instead\n",
      "\n",
      "See the caveats in the documentation: https://pandas.pydata.org/pandas-docs/stable/user_guide/indexing.html#returning-a-view-versus-a-copy\n",
      "  df_rets[\"gaussian\"] = np.random.normal(mu, sigma, len(master_returns))\n"
     ]
    },
    {
     "data": {
      "text/plain": [
       "(-3.0, 3.0)"
      ]
     },
     "execution_count": 13,
     "metadata": {},
     "output_type": "execute_result"
    },
    {
     "data": {
      "text/plain": [
       "<Figure size 576x864 with 0 Axes>"
      ]
     },
     "metadata": {},
     "output_type": "display_data"
    },
    {
     "data": {
      "image/png": "[encoded data removed]",
      "text/plain": [
       "<Figure size 432x288 with 4 Axes>"
      ]
     },
     "metadata": {
      "needs_background": "light"
     },
     "output_type": "display_data"
    }
   ],
   "source": [
    "# Histograms returns\n",
    "df_rets = master_returns[[\"log_SP500\", \"rp\"]]\n",
    "\n",
    "mu, sigma = 0, 0.1 # mean and standard deviation\n",
    "df_rets[\"gaussian\"] = np.random.normal(mu, sigma, len(master_returns))\n",
    "plt.figure(figsize=(8, 12))\n",
    "df_rets.hist()\n",
    "plt.xlim([-3.0, 3.0])"
   ]
  },
  {
   "cell_type": "code",
   "execution_count": 14,
   "metadata": {},
   "outputs": [],
   "source": [
    "###################################################\n",
    "#### Technical information ########################\n",
    "\n",
    "# Tracking Error (TE)\n",
    "# Volatility\n",
    "# Correlation\n",
    "# Beta"
   ]
  },
  {
   "cell_type": "code",
   "execution_count": 15,
   "metadata": {},
   "outputs": [],
   "source": [
    "# TE\n",
    "master_returns['TE_1'] = (master_returns['rp'] - master_returns['log_SP500'])**2\n",
    "TE =  master_returns['TE_1'].sum()\n",
    "TE = TE/(len(master_returns) - 1)\n",
    "TE = TE**0.5"
   ]
  },
  {
   "cell_type": "code",
   "execution_count": 16,
   "metadata": {},
   "outputs": [],
   "source": [
    "# Correlation\n",
    "p_corr = master_returns['rp'].corr(master_returns['log_SP500'])"
   ]
  },
  {
   "cell_type": "code",
   "execution_count": 17,
   "metadata": {},
   "outputs": [],
   "source": [
    "# Volatility\n",
    "weights = np.array(list(portfolio_w.values()))\n",
    "factor_cov = master_returns[['log_SPY', 'log_TLT', 'log_GLD']].cov()\n",
    "\n",
    "p_vol = np.sqrt(np.dot(weights.T, np.dot(factor_cov * len(master_returns), weights)))"
   ]
  },
  {
   "cell_type": "code",
   "execution_count": 18,
   "metadata": {},
   "outputs": [
    {
     "name": "stdout",
     "output_type": "stream",
     "text": [
      "---- Technical Information ----\n",
      "Volatility:  15.52 %\n",
      "TE:  1.24\n",
      "Correlation:  0.89\n",
      "Beta:  1.63\n"
     ]
    }
   ],
   "source": [
    "print('---- Technical Information ----')\n",
    "print('Volatility: ', round(p_vol, 4)*100, \"%\")\n",
    "print('TE: ', round(TE, 4) * 100)\n",
    "print('Correlation: ', round(p_corr, 2))\n",
    "print('Beta: ', round(res.params[0], 2))"
   ]
  }
 ],
 "metadata": {
  "kernelspec": {
   "display_name": "finance",
   "language": "python",
   "name": "finance"
  },
  "language_info": {
   "codemirror_mode": {
    "name": "ipython",
    "version": 3
   },
   "file_extension": ".py",
   "mimetype": "text/x-python",
   "name": "python",
   "nbconvert_exporter": "python",
   "pygments_lexer": "ipython3",
   "version": "3.8.3"
  }
 },
 "nbformat": 4,
 "nbformat_minor": 4
}
