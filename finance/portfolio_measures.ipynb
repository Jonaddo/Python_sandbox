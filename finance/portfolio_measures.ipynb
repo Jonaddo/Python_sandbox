{
 "cells": [
  {
   "cell_type": "code",
   "execution_count": null,
   "metadata": {},
   "outputs": [],
   "source": [
    "import os\n",
    "import pandas as pd\n",
    "import numpy as np\n",
    "import statsmodels.api as sm\n",
    "import scipy.stats as stats\n",
    "import matplotlib.pyplot as plt\n",
    "plt.close(\"all\")\n",
    "\n",
    "PATH=\"C:/Users/...\"\n",
    "os.chdir(PATH)\n",
    "print(\"Current working directory -->\", PATH)"
   ]
  },
  {
   "cell_type": "code",
   "execution_count": 2,
   "metadata": {},
   "outputs": [
    {
     "data": {
      "text/html": [
       "<div>\n",
       "<style scoped>\n",
       "    .dataframe tbody tr th:only-of-type {\n",
       "        vertical-align: middle;\n",
       "    }\n",
       "\n",
       "    .dataframe tbody tr th {\n",
       "        vertical-align: top;\n",
       "    }\n",
       "\n",
       "    .dataframe thead th {\n",
       "        text-align: right;\n",
       "    }\n",
       "</style>\n",
       "<table border=\"1\" class=\"dataframe\">\n",
       "  <thead>\n",
       "    <tr style=\"text-align: right;\">\n",
       "      <th></th>\n",
       "      <th>Date</th>\n",
       "      <th>Open</th>\n",
       "      <th>High</th>\n",
       "      <th>Low</th>\n",
       "      <th>Close</th>\n",
       "      <th>Adj Close</th>\n",
       "      <th>Volume</th>\n",
       "    </tr>\n",
       "  </thead>\n",
       "  <tbody>\n",
       "    <tr>\n",
       "      <th>0</th>\n",
       "      <td>2020-01-02</td>\n",
       "      <td>323.540009</td>\n",
       "      <td>324.890015</td>\n",
       "      <td>322.529999</td>\n",
       "      <td>324.869995</td>\n",
       "      <td>318.914307</td>\n",
       "      <td>59151200</td>\n",
       "    </tr>\n",
       "    <tr>\n",
       "      <th>1</th>\n",
       "      <td>2020-01-03</td>\n",
       "      <td>321.160004</td>\n",
       "      <td>323.640015</td>\n",
       "      <td>321.100006</td>\n",
       "      <td>322.410004</td>\n",
       "      <td>316.499451</td>\n",
       "      <td>77709700</td>\n",
       "    </tr>\n",
       "    <tr>\n",
       "      <th>2</th>\n",
       "      <td>2020-01-06</td>\n",
       "      <td>320.489990</td>\n",
       "      <td>323.730011</td>\n",
       "      <td>320.359985</td>\n",
       "      <td>323.640015</td>\n",
       "      <td>317.706909</td>\n",
       "      <td>55653900</td>\n",
       "    </tr>\n",
       "  </tbody>\n",
       "</table>\n",
       "</div>"
      ],
      "text/plain": [
       "         Date        Open        High         Low       Close   Adj Close  \\\n",
       "0  2020-01-02  323.540009  324.890015  322.529999  324.869995  318.914307   \n",
       "1  2020-01-03  321.160004  323.640015  321.100006  322.410004  316.499451   \n",
       "2  2020-01-06  320.489990  323.730011  320.359985  323.640015  317.706909   \n",
       "\n",
       "     Volume  \n",
       "0  59151200  \n",
       "1  77709700  \n",
       "2  55653900  "
      ]
     },
     "execution_count": 2,
     "metadata": {},
     "output_type": "execute_result"
    }
   ],
   "source": [
    "'''\n",
    "Working factors\n",
    "---------------\n",
    "\n",
    "Period: 01-01-2020 to 31-12-2020\n",
    "Frequence: daily prices\n",
    "Website: Yahoo Finance\n",
    "Risk factors: SPY, TLT, GLD and S&P 500\n",
    "\n",
    "For this exercise, the S&P 500 will be our benchmark.\n",
    "\n",
    "'''\n",
    "SPY=pd.read_csv(\"SPY.csv\", infer_datetime_format=True) # Constitutent 1\n",
    "TLT=pd.read_csv(\"TLT.csv\", infer_datetime_format=True) # Constitutent 2\n",
    "GLD=pd.read_csv(\"GLD.csv\", infer_datetime_format=True) # Constitutent 3\n",
    "SP500=pd.read_csv(\"SP500.csv\", infer_datetime_format=True) # Benchmark\n",
    "\n",
    "factors_dict = {\n",
    "    'SPY': SPY,\n",
    "    'TLT': TLT,\n",
    "    'GLD': GLD,\n",
    "    'SP500': SP500,\n",
    "}\n",
    "\n",
    "factors_dict['SPY'].head(3)"
   ]
  },
  {
   "cell_type": "code",
   "execution_count": 3,
   "metadata": {},
   "outputs": [
    {
     "data": {
      "text/html": [
       "<div>\n",
       "<style scoped>\n",
       "    .dataframe tbody tr th:only-of-type {\n",
       "        vertical-align: middle;\n",
       "    }\n",
       "\n",
       "    .dataframe tbody tr th {\n",
       "        vertical-align: top;\n",
       "    }\n",
       "\n",
       "    .dataframe thead th {\n",
       "        text-align: right;\n",
       "    }\n",
       "</style>\n",
       "<table border=\"1\" class=\"dataframe\">\n",
       "  <thead>\n",
       "    <tr style=\"text-align: right;\">\n",
       "      <th></th>\n",
       "      <th>Date</th>\n",
       "      <th>Open</th>\n",
       "      <th>High</th>\n",
       "      <th>Low</th>\n",
       "      <th>Close</th>\n",
       "      <th>SPY</th>\n",
       "      <th>Volume</th>\n",
       "    </tr>\n",
       "  </thead>\n",
       "  <tbody>\n",
       "    <tr>\n",
       "      <th>0</th>\n",
       "      <td>2020-01-02</td>\n",
       "      <td>323.540009</td>\n",
       "      <td>324.890015</td>\n",
       "      <td>322.529999</td>\n",
       "      <td>324.869995</td>\n",
       "      <td>318.914307</td>\n",
       "      <td>59151200</td>\n",
       "    </tr>\n",
       "    <tr>\n",
       "      <th>1</th>\n",
       "      <td>2020-01-03</td>\n",
       "      <td>321.160004</td>\n",
       "      <td>323.640015</td>\n",
       "      <td>321.100006</td>\n",
       "      <td>322.410004</td>\n",
       "      <td>316.499451</td>\n",
       "      <td>77709700</td>\n",
       "    </tr>\n",
       "    <tr>\n",
       "      <th>2</th>\n",
       "      <td>2020-01-06</td>\n",
       "      <td>320.489990</td>\n",
       "      <td>323.730011</td>\n",
       "      <td>320.359985</td>\n",
       "      <td>323.640015</td>\n",
       "      <td>317.706909</td>\n",
       "      <td>55653900</td>\n",
       "    </tr>\n",
       "  </tbody>\n",
       "</table>\n",
       "</div>"
      ],
      "text/plain": [
       "         Date        Open        High         Low       Close         SPY  \\\n",
       "0  2020-01-02  323.540009  324.890015  322.529999  324.869995  318.914307   \n",
       "1  2020-01-03  321.160004  323.640015  321.100006  322.410004  316.499451   \n",
       "2  2020-01-06  320.489990  323.730011  320.359985  323.640015  317.706909   \n",
       "\n",
       "     Volume  \n",
       "0  59151200  \n",
       "1  77709700  \n",
       "2  55653900  "
      ]
     },
     "execution_count": 3,
     "metadata": {},
     "output_type": "execute_result"
    }
   ],
   "source": [
    "# Selecting the 'Adj Close' as it adjust for, e.g. stock splits\n",
    "# Renaming the 'Adj Close'\n",
    "for k in factors_dict.keys():\n",
    "    factors_dict[k] = factors_dict[k].rename(columns={\"Adj Close\": k})\n",
    "    \n",
    "factors_dict['SPY'].head(3)"
   ]
  },
  {
   "cell_type": "code",
   "execution_count": 4,
   "metadata": {},
   "outputs": [
    {
     "data": {
      "text/html": [
       "<div>\n",
       "<style scoped>\n",
       "    .dataframe tbody tr th:only-of-type {\n",
       "        vertical-align: middle;\n",
       "    }\n",
       "\n",
       "    .dataframe tbody tr th {\n",
       "        vertical-align: top;\n",
       "    }\n",
       "\n",
       "    .dataframe thead th {\n",
       "        text-align: right;\n",
       "    }\n",
       "</style>\n",
       "<table border=\"1\" class=\"dataframe\">\n",
       "  <thead>\n",
       "    <tr style=\"text-align: right;\">\n",
       "      <th></th>\n",
       "      <th>Date</th>\n",
       "      <th>SPY</th>\n",
       "      <th>TLT</th>\n",
       "      <th>GLD</th>\n",
       "      <th>SP500</th>\n",
       "    </tr>\n",
       "  </thead>\n",
       "  <tbody>\n",
       "    <tr>\n",
       "      <th>0</th>\n",
       "      <td>2020-01-02</td>\n",
       "      <td>318.914307</td>\n",
       "      <td>135.004837</td>\n",
       "      <td>143.949997</td>\n",
       "      <td>3257.850098</td>\n",
       "    </tr>\n",
       "    <tr>\n",
       "      <th>1</th>\n",
       "      <td>2020-01-03</td>\n",
       "      <td>316.499451</td>\n",
       "      <td>137.083969</td>\n",
       "      <td>145.860001</td>\n",
       "      <td>3234.850098</td>\n",
       "    </tr>\n",
       "    <tr>\n",
       "      <th>2</th>\n",
       "      <td>2020-01-06</td>\n",
       "      <td>317.706909</td>\n",
       "      <td>136.305542</td>\n",
       "      <td>147.389999</td>\n",
       "      <td>3246.280029</td>\n",
       "    </tr>\n",
       "  </tbody>\n",
       "</table>\n",
       "</div>"
      ],
      "text/plain": [
       "         Date         SPY         TLT         GLD        SP500\n",
       "0  2020-01-02  318.914307  135.004837  143.949997  3257.850098\n",
       "1  2020-01-03  316.499451  137.083969  145.860001  3234.850098\n",
       "2  2020-01-06  317.706909  136.305542  147.389999  3246.280029"
      ]
     },
     "execution_count": 4,
     "metadata": {},
     "output_type": "execute_result"
    }
   ],
   "source": [
    "# Joining all factors in one table\n",
    "master_factors = factors_dict['SPY'][[\"Date\"]]\n",
    "for k in factors_dict.keys():\n",
    "    master_factors = pd.merge(\n",
    "        master_factors,\n",
    "        factors_dict[k][[\"Date\", k]],\n",
    "        how='left',\n",
    "        on=[\"Date\"]\n",
    "    )\n",
    "    \n",
    "master_factors.head(3)"
   ]
  },
  {
   "cell_type": "code",
   "execution_count": 5,
   "metadata": {},
   "outputs": [
    {
     "data": {
      "text/html": [
       "<div>\n",
       "<style scoped>\n",
       "    .dataframe tbody tr th:only-of-type {\n",
       "        vertical-align: middle;\n",
       "    }\n",
       "\n",
       "    .dataframe tbody tr th {\n",
       "        vertical-align: top;\n",
       "    }\n",
       "\n",
       "    .dataframe thead th {\n",
       "        text-align: right;\n",
       "    }\n",
       "</style>\n",
       "<table border=\"1\" class=\"dataframe\">\n",
       "  <thead>\n",
       "    <tr style=\"text-align: right;\">\n",
       "      <th></th>\n",
       "      <th>SPY</th>\n",
       "      <th>TLT</th>\n",
       "      <th>GLD</th>\n",
       "      <th>SP500</th>\n",
       "    </tr>\n",
       "    <tr>\n",
       "      <th>Date</th>\n",
       "      <th></th>\n",
       "      <th></th>\n",
       "      <th></th>\n",
       "      <th></th>\n",
       "    </tr>\n",
       "  </thead>\n",
       "  <tbody>\n",
       "    <tr>\n",
       "      <th>2020-01-02</th>\n",
       "      <td>318.914307</td>\n",
       "      <td>135.004837</td>\n",
       "      <td>143.949997</td>\n",
       "      <td>3257.850098</td>\n",
       "    </tr>\n",
       "    <tr>\n",
       "      <th>2020-01-03</th>\n",
       "      <td>316.499451</td>\n",
       "      <td>137.083969</td>\n",
       "      <td>145.860001</td>\n",
       "      <td>3234.850098</td>\n",
       "    </tr>\n",
       "    <tr>\n",
       "      <th>2020-01-06</th>\n",
       "      <td>317.706909</td>\n",
       "      <td>136.305542</td>\n",
       "      <td>147.389999</td>\n",
       "      <td>3246.280029</td>\n",
       "    </tr>\n",
       "  </tbody>\n",
       "</table>\n",
       "</div>"
      ],
      "text/plain": [
       "                   SPY         TLT         GLD        SP500\n",
       "Date                                                       \n",
       "2020-01-02  318.914307  135.004837  143.949997  3257.850098\n",
       "2020-01-03  316.499451  137.083969  145.860001  3234.850098\n",
       "2020-01-06  317.706909  136.305542  147.389999  3246.280029"
      ]
     },
     "execution_count": 5,
     "metadata": {},
     "output_type": "execute_result"
    }
   ],
   "source": [
    "# Set 'Date' column to index\n",
    "master_factors['Date'] = pd.to_datetime(master_factors['Date'], infer_datetime_format=True)\n",
    "master_factors = master_factors.set_index('Date')\n",
    "\n",
    "master_factors.head(3)"
   ]
  },
  {
   "cell_type": "code",
   "execution_count": 6,
   "metadata": {},
   "outputs": [
    {
     "data": {
      "text/html": [
       "<div>\n",
       "<style scoped>\n",
       "    .dataframe tbody tr th:only-of-type {\n",
       "        vertical-align: middle;\n",
       "    }\n",
       "\n",
       "    .dataframe tbody tr th {\n",
       "        vertical-align: top;\n",
       "    }\n",
       "\n",
       "    .dataframe thead th {\n",
       "        text-align: right;\n",
       "    }\n",
       "</style>\n",
       "<table border=\"1\" class=\"dataframe\">\n",
       "  <thead>\n",
       "    <tr style=\"text-align: right;\">\n",
       "      <th></th>\n",
       "      <th>ret_SPY</th>\n",
       "      <th>ret_TLT</th>\n",
       "      <th>ret_GLD</th>\n",
       "      <th>ret_SP500</th>\n",
       "    </tr>\n",
       "    <tr>\n",
       "      <th>Date</th>\n",
       "      <th></th>\n",
       "      <th></th>\n",
       "      <th></th>\n",
       "      <th></th>\n",
       "    </tr>\n",
       "  </thead>\n",
       "  <tbody>\n",
       "    <tr>\n",
       "      <th>2020-01-03</th>\n",
       "      <td>-0.00757</td>\n",
       "      <td>0.01540</td>\n",
       "      <td>0.01327</td>\n",
       "      <td>-0.00706</td>\n",
       "    </tr>\n",
       "    <tr>\n",
       "      <th>2020-01-06</th>\n",
       "      <td>0.00382</td>\n",
       "      <td>-0.00568</td>\n",
       "      <td>0.01049</td>\n",
       "      <td>0.00353</td>\n",
       "    </tr>\n",
       "    <tr>\n",
       "      <th>2020-01-07</th>\n",
       "      <td>-0.00281</td>\n",
       "      <td>-0.00492</td>\n",
       "      <td>0.00394</td>\n",
       "      <td>-0.00280</td>\n",
       "    </tr>\n",
       "  </tbody>\n",
       "</table>\n",
       "</div>"
      ],
      "text/plain": [
       "            ret_SPY  ret_TLT  ret_GLD  ret_SP500\n",
       "Date                                            \n",
       "2020-01-03 -0.00757  0.01540  0.01327   -0.00706\n",
       "2020-01-06  0.00382 -0.00568  0.01049    0.00353\n",
       "2020-01-07 -0.00281 -0.00492  0.00394   -0.00280"
      ]
     },
     "execution_count": 6,
     "metadata": {},
     "output_type": "execute_result"
    }
   ],
   "source": [
    "'''\n",
    "Compute the returns\n",
    "\n",
    "Important reminder:\n",
    "\n",
    "    1. Simple returns are additive in a portfolio but not log returns\n",
    "    2. Simple returns are not additive over time\n",
    "    3. Arithmetic mean provides an unbiased estimate of the return for the following period.\n",
    "    4. Geometric mean is a good measure of the historical performance.\n",
    "\n",
    "'''\n",
    "\n",
    "for k in master_factors.keys():\n",
    "    master_factors['ret_' + k] = (master_factors[k] - master_factors[k].shift(1))/master_factors[k].shift(1)\n",
    "\n",
    "master_returns = master_factors[[c for c in master_factors.columns if c.startswith(\"ret_\")]]\\\n",
    "                                .dropna()\n",
    "\n",
    "# Round to 5 decimals\n",
    "master_returns = master_returns.round(5)\n",
    "\n",
    "master_returns.head(3)"
   ]
  },
  {
   "cell_type": "code",
   "execution_count": 7,
   "metadata": {},
   "outputs": [
    {
     "data": {
      "text/plain": [
       "<matplotlib.axes._subplots.AxesSubplot at 0x1f46b544d90>"
      ]
     },
     "execution_count": 7,
     "metadata": {},
     "output_type": "execute_result"
    },
    {
     "data": {
      "image/png": "[encoded data removed]",
      "text/plain": [
       "<Figure size 432x288 with 1 Axes>"
      ]
     },
     "metadata": {
      "needs_background": "light"
     },
     "output_type": "display_data"
    }
   ],
   "source": [
    "# Intermediary quick check\n",
    "# Stock returns are NOT normally distributed as they have ticker tails and are negatively skewed.\n",
    "master_returns['ret_SPY'].hist()"
   ]
  },
  {
   "cell_type": "code",
   "execution_count": 8,
   "metadata": {},
   "outputs": [
    {
     "data": {
      "text/html": [
       "<div>\n",
       "<style scoped>\n",
       "    .dataframe tbody tr th:only-of-type {\n",
       "        vertical-align: middle;\n",
       "    }\n",
       "\n",
       "    .dataframe tbody tr th {\n",
       "        vertical-align: top;\n",
       "    }\n",
       "\n",
       "    .dataframe thead th {\n",
       "        text-align: right;\n",
       "    }\n",
       "</style>\n",
       "<table border=\"1\" class=\"dataframe\">\n",
       "  <thead>\n",
       "    <tr style=\"text-align: right;\">\n",
       "      <th></th>\n",
       "      <th>ret_SPY</th>\n",
       "      <th>ret_TLT</th>\n",
       "      <th>ret_GLD</th>\n",
       "      <th>ret_SP500</th>\n",
       "      <th>rp</th>\n",
       "    </tr>\n",
       "    <tr>\n",
       "      <th>Date</th>\n",
       "      <th></th>\n",
       "      <th></th>\n",
       "      <th></th>\n",
       "      <th></th>\n",
       "      <th></th>\n",
       "    </tr>\n",
       "  </thead>\n",
       "  <tbody>\n",
       "    <tr>\n",
       "      <th>2020-01-03</th>\n",
       "      <td>-0.00757</td>\n",
       "      <td>0.01540</td>\n",
       "      <td>0.01327</td>\n",
       "      <td>-0.00706</td>\n",
       "      <td>0.003063</td>\n",
       "    </tr>\n",
       "    <tr>\n",
       "      <th>2020-01-06</th>\n",
       "      <td>0.00382</td>\n",
       "      <td>-0.00568</td>\n",
       "      <td>0.01049</td>\n",
       "      <td>0.00353</td>\n",
       "      <td>0.005538</td>\n",
       "    </tr>\n",
       "    <tr>\n",
       "      <th>2020-01-07</th>\n",
       "      <td>-0.00281</td>\n",
       "      <td>-0.00492</td>\n",
       "      <td>0.00394</td>\n",
       "      <td>-0.00280</td>\n",
       "      <td>-0.000321</td>\n",
       "    </tr>\n",
       "  </tbody>\n",
       "</table>\n",
       "</div>"
      ],
      "text/plain": [
       "            ret_SPY  ret_TLT  ret_GLD  ret_SP500        rp\n",
       "Date                                                      \n",
       "2020-01-03 -0.00757  0.01540  0.01327   -0.00706  0.003063\n",
       "2020-01-06  0.00382 -0.00568  0.01049    0.00353  0.005538\n",
       "2020-01-07 -0.00281 -0.00492  0.00394   -0.00280 -0.000321"
      ]
     },
     "execution_count": 8,
     "metadata": {},
     "output_type": "execute_result"
    }
   ],
   "source": [
    "# Computing the portfolio returns with weights SPY:0.5, GLD:0.4, TLT:0.1\n",
    "portfolio_w = {\n",
    "    'ret_SPY': 0.5,\n",
    "    'ret_GLD': 0.4,\n",
    "    'ret_TLT': 0.1\n",
    "}\n",
    "\n",
    "master_returns[\"rp\"]=0\n",
    "for k, v in portfolio_w.items():\n",
    "    master_returns[\"rp\"] += v * master_returns[k]\n",
    "    \n",
    "master_returns.head(3)"
   ]
  },
  {
   "cell_type": "code",
   "execution_count": 9,
   "metadata": {},
   "outputs": [
    {
     "name": "stdout",
     "output_type": "stream",
     "text": [
      "                            OLS Regression Results                            \n",
      "==============================================================================\n",
      "Dep. Variable:                     rp   R-squared:                       0.798\n",
      "Model:                            OLS   Adj. R-squared:                  0.797\n",
      "Method:                 Least Squares   F-statistic:                     982.6\n",
      "Date:                Thu, 11 Feb 2021   Prob (F-statistic):           2.07e-88\n",
      "Time:                        22:02:12   Log-Likelihood:                 956.18\n",
      "No. Observations:                 251   AIC:                            -1908.\n",
      "Df Residuals:                     249   BIC:                            -1901.\n",
      "Df Model:                           1                                         \n",
      "Covariance Type:            nonrobust                                         \n",
      "==============================================================================\n",
      "                 coef    std err          t      P>|t|      [0.025      0.975]\n",
      "------------------------------------------------------------------------------\n",
      "ret_SP500      0.4903      0.016     31.346      0.000       0.460       0.521\n",
      "alpha          0.0005      0.000      1.392      0.165      -0.000       0.001\n",
      "==============================================================================\n",
      "Omnibus:                       37.159   Durbin-Watson:                   1.702\n",
      "Prob(Omnibus):                  0.000   Jarque-Bera (JB):              142.439\n",
      "Skew:                          -0.516   Prob(JB):                     1.17e-31\n",
      "Kurtosis:                       6.543   Cond. No.                         46.0\n",
      "==============================================================================\n",
      "\n",
      "Warnings:\n",
      "[1] Standard Errors assume that the covariance matrix of the errors is correctly specified.\n"
     ]
    },
    {
     "name": "stderr",
     "output_type": "stream",
     "text": [
      "<ipython-input-9-09648bc387c7>:11: SettingWithCopyWarning: \n",
      "A value is trying to be set on a copy of a slice from a DataFrame.\n",
      "Try using .loc[row_indexer,col_indexer] = value instead\n",
      "\n",
      "See the caveats in the documentation: https://pandas.pydata.org/pandas-docs/stable/user_guide/indexing.html#returning-a-view-versus-a-copy\n",
      "  X_train[\"alpha\"] = 1 # Our model needs an intercept so we add a column of 1s\n"
     ]
    }
   ],
   "source": [
    "'''\n",
    "Jensen's alpha formula: rp - Rf =  ALPHA + Beta*(rb – Rf)\n",
    "\n",
    "rp: portfolio returns\n",
    "Rf: risk free rate here assumed to be equal to zero for simplicity\n",
    "ALPHA: OLS intercept\n",
    "rb: benchmark returns\n",
    "'''\n",
    "\n",
    "X_train = master_returns[[\"ret_SP500\"]] # Benchmark returns\n",
    "X_train[\"alpha\"] = 1 # Our model needs an intercept so we add a column of 1s\n",
    "y_train = master_returns[[\"rp\"]] # portfolio returns\n",
    "\n",
    "# Fit and summarize OLS model\n",
    "mod = sm.OLS(y_train, X_train)\n",
    "res = mod.fit()\n",
    "print(res.summary())"
   ]
  },
  {
   "cell_type": "code",
   "execution_count": 10,
   "metadata": {},
   "outputs": [
    {
     "data": {
      "text/plain": [
       "'\\nSummary interpretation\\n----------------------\\n\\n1) The constant coefficient (alpha) is statistically not significant as the P-value (0.165) is greater than 0.05\\n2) The Beta of our exogene variable (S&P 500) is satistically significant since the P-value (0.000) is smaller than 0.05\\n3) The return of our portfolio is predicted to increase by 0.4903 when the S&P 500 variable goes up by one unit\\n\\n'"
      ]
     },
     "execution_count": 10,
     "metadata": {},
     "output_type": "execute_result"
    }
   ],
   "source": [
    "'''\n",
    "Summary interpretation\n",
    "----------------------\n",
    "\n",
    "1) The constant coefficient (alpha) is statistically not significant as the P-value (0.165) is greater than 0.05\n",
    "2) The Beta of our exogene variable (S&P 500) is satistically significant since the P-value (0.000) is smaller than 0.05\n",
    "3) The return of our portfolio is predicted to increase by 0.4903 when the S&P 500 variable goes up by one unit\n",
    "\n",
    "'''\n"
   ]
  },
  {
   "cell_type": "code",
   "execution_count": 11,
   "metadata": {},
   "outputs": [
    {
     "data": {
      "image/png": "[encoded data removed]",
      "text/plain": [
       "<Figure size 432x288 with 1 Axes>"
      ]
     },
     "metadata": {
      "needs_background": "light"
     },
     "output_type": "display_data"
    }
   ],
   "source": [
    "# Q-Q plot of the residuals against quantiles of t-distribution\n",
    "fig = sm.qqplot(res.resid , stats.t, fit=True, line=\"45\")\n",
    "plt.show()"
   ]
  },
  {
   "cell_type": "code",
   "execution_count": 12,
   "metadata": {},
   "outputs": [
    {
     "name": "stdout",
     "output_type": "stream",
     "text": [
      "-------- Cumulative returns for year 2020 --------\n",
      "Portfolio:  21.75 %\n",
      "Benchmark:  14.56 %\n"
     ]
    },
    {
     "data": {
      "text/plain": [
       "<Figure size 864x1152 with 0 Axes>"
      ]
     },
     "metadata": {},
     "output_type": "display_data"
    },
    {
     "data": {
      "image/png": "[encoded data removed]",
      "text/plain": [
       "<Figure size 432x288 with 1 Axes>"
      ]
     },
     "metadata": {
      "needs_background": "light"
     },
     "output_type": "display_data"
    }
   ],
   "source": [
    "# Cumulative sum\n",
    "df_cumsum = (1 + master_returns).cumprod()\n",
    "\n",
    "p_annual_ret = df_cumsum['rp'].iloc[-1] - 1\n",
    "bm_annual_ret = df_cumsum['ret_SP500'].iloc[-1] - 1\n",
    "\n",
    "plt.figure(figsize=(12, 16))\n",
    "df_cumsum.plot()\n",
    "plt.grid(True)\n",
    "\n",
    "print('-------- Cumulative returns for year 2020 --------')\n",
    "print('Portfolio: ', round(p_annual_ret * 100, 2), \"%\")\n",
    "print('Benchmark: ', round(bm_annual_ret * 100, 2), \"%\")"
   ]
  },
  {
   "cell_type": "code",
   "execution_count": 13,
   "metadata": {},
   "outputs": [
    {
     "data": {
      "text/plain": [
       "<Figure size 864x1152 with 0 Axes>"
      ]
     },
     "metadata": {},
     "output_type": "display_data"
    },
    {
     "data": {
      "image/png": "[encoded data removed]",
      "text/plain": [
       "<Figure size 432x288 with 1 Axes>"
      ]
     },
     "metadata": {
      "needs_background": "light"
     },
     "output_type": "display_data"
    }
   ],
   "source": [
    "# Time series returns\n",
    "df_rets = master_returns[[\"ret_SP500\", \"rp\"]]\n",
    "\n",
    "plt.figure(figsize=(12, 16))\n",
    "df_rets.plot()\n",
    "plt.grid(True)"
   ]
  },
  {
   "cell_type": "code",
   "execution_count": 14,
   "metadata": {},
   "outputs": [],
   "source": [
    "###################################################\n",
    "#### Technical information ########################\n",
    "\n",
    "# Tracking Error (TE)\n",
    "# Volatility\n",
    "# Correlation\n",
    "# Beta\n",
    "\n",
    "# Note: the benchmarks returns is in this exercise 'log_SP500'"
   ]
  },
  {
   "cell_type": "code",
   "execution_count": 15,
   "metadata": {},
   "outputs": [],
   "source": [
    "# TE\n",
    "master_returns['TE_1'] = (master_returns['rp'] - master_returns['ret_SP500'])**2\n",
    "TE =  master_returns['TE_1'].sum()\n",
    "TE = TE/(len(master_returns) - 1)\n",
    "TE = TE**0.5"
   ]
  },
  {
   "cell_type": "code",
   "execution_count": 16,
   "metadata": {},
   "outputs": [],
   "source": [
    "# Correlation\n",
    "p_corr = master_returns['rp'].corr(master_returns['ret_SP500'])"
   ]
  },
  {
   "cell_type": "code",
   "execution_count": 17,
   "metadata": {},
   "outputs": [],
   "source": [
    "# Volatility\n",
    "weights = np.array(list(portfolio_w.values()))\n",
    "factor_cov = master_returns[['ret_SPY', 'ret_TLT', 'ret_GLD']].cov()\n",
    "\n",
    "p_vol = np.sqrt(np.dot(weights.T, np.dot(factor_cov * len(master_returns), weights)))"
   ]
  },
  {
   "cell_type": "code",
   "execution_count": 18,
   "metadata": {},
   "outputs": [
    {
     "name": "stdout",
     "output_type": "stream",
     "text": [
      "---- Technical Information ----\n",
      "Volatility:  15.37 %\n",
      "TE:  1.23\n",
      "Correlation:  0.89\n",
      "Beta:  0.49\n"
     ]
    }
   ],
   "source": [
    "print('---- Technical Information ----')\n",
    "print('Volatility: ', round(p_vol * 100, 2), \"%\")\n",
    "print('TE: ', round(TE * 100, 2))\n",
    "print('Correlation: ', round(p_corr, 2))\n",
    "print('Beta: ', round(res.params[0], 2))"
   ]
  }
 ],
 "metadata": {
  "kernelspec": {
   "display_name": "finance",
   "language": "python",
   "name": "finance"
  },
  "language_info": {
   "codemirror_mode": {
    "name": "ipython",
    "version": 3
   },
   "file_extension": ".py",
   "mimetype": "text/x-python",
   "name": "python",
   "nbconvert_exporter": "python",
   "pygments_lexer": "ipython3",
   "version": "3.8.3"
  }
 },
 "nbformat": 4,
 "nbformat_minor": 4
}
